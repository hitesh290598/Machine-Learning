{
 "cells": [
  {
   "cell_type": "markdown",
   "metadata": {},
   "source": [
    "### Decision Tree"
   ]
  },
  {
   "cell_type": "markdown",
   "metadata": {},
   "source": [
    "##### Importing necessary packages"
   ]
  },
  {
   "cell_type": "code",
   "execution_count": 2,
   "metadata": {},
   "outputs": [],
   "source": [
    "import pandas as pd\n",
    "import numpy as np\n",
    "import matplotlib.pyplot as plt\n",
    "\n",
    "from sklearn.preprocessing import LabelEncoder, OneHotEncoder\n",
    "from sklearn.model_selection import train_test_split\n",
    "from sklearn.preprocessing import StandardScaler\n",
    "from sklearn.tree import DecisionTreeClassifier\n",
    "from sklearn import metrics\n",
    "\n",
    "%matplotlib inline"
   ]
  },
  {
   "cell_type": "markdown",
   "metadata": {},
   "source": [
    "##### Reading the data"
   ]
  },
  {
   "cell_type": "code",
   "execution_count": 4,
   "metadata": {},
   "outputs": [],
   "source": [
    "sn_data = pd.read_csv(\"./Datasets/Social_Network_Ads.csv\")"
   ]
  },
  {
   "cell_type": "code",
   "execution_count": 5,
   "metadata": {},
   "outputs": [
    {
     "data": {
      "text/html": [
       "<div>\n",
       "<style scoped>\n",
       "    .dataframe tbody tr th:only-of-type {\n",
       "        vertical-align: middle;\n",
       "    }\n",
       "\n",
       "    .dataframe tbody tr th {\n",
       "        vertical-align: top;\n",
       "    }\n",
       "\n",
       "    .dataframe thead th {\n",
       "        text-align: right;\n",
       "    }\n",
       "</style>\n",
       "<table border=\"1\" class=\"dataframe\">\n",
       "  <thead>\n",
       "    <tr style=\"text-align: right;\">\n",
       "      <th></th>\n",
       "      <th>User ID</th>\n",
       "      <th>Gender</th>\n",
       "      <th>Age</th>\n",
       "      <th>EstimatedSalary</th>\n",
       "      <th>Purchased</th>\n",
       "    </tr>\n",
       "  </thead>\n",
       "  <tbody>\n",
       "    <tr>\n",
       "      <td>0</td>\n",
       "      <td>15624510</td>\n",
       "      <td>Male</td>\n",
       "      <td>19</td>\n",
       "      <td>19000</td>\n",
       "      <td>0</td>\n",
       "    </tr>\n",
       "    <tr>\n",
       "      <td>1</td>\n",
       "      <td>15810944</td>\n",
       "      <td>Male</td>\n",
       "      <td>35</td>\n",
       "      <td>20000</td>\n",
       "      <td>0</td>\n",
       "    </tr>\n",
       "    <tr>\n",
       "      <td>2</td>\n",
       "      <td>15668575</td>\n",
       "      <td>Female</td>\n",
       "      <td>26</td>\n",
       "      <td>43000</td>\n",
       "      <td>0</td>\n",
       "    </tr>\n",
       "    <tr>\n",
       "      <td>3</td>\n",
       "      <td>15603246</td>\n",
       "      <td>Female</td>\n",
       "      <td>27</td>\n",
       "      <td>57000</td>\n",
       "      <td>0</td>\n",
       "    </tr>\n",
       "    <tr>\n",
       "      <td>4</td>\n",
       "      <td>15804002</td>\n",
       "      <td>Male</td>\n",
       "      <td>19</td>\n",
       "      <td>76000</td>\n",
       "      <td>0</td>\n",
       "    </tr>\n",
       "    <tr>\n",
       "      <td>...</td>\n",
       "      <td>...</td>\n",
       "      <td>...</td>\n",
       "      <td>...</td>\n",
       "      <td>...</td>\n",
       "      <td>...</td>\n",
       "    </tr>\n",
       "    <tr>\n",
       "      <td>395</td>\n",
       "      <td>15691863</td>\n",
       "      <td>Female</td>\n",
       "      <td>46</td>\n",
       "      <td>41000</td>\n",
       "      <td>1</td>\n",
       "    </tr>\n",
       "    <tr>\n",
       "      <td>396</td>\n",
       "      <td>15706071</td>\n",
       "      <td>Male</td>\n",
       "      <td>51</td>\n",
       "      <td>23000</td>\n",
       "      <td>1</td>\n",
       "    </tr>\n",
       "    <tr>\n",
       "      <td>397</td>\n",
       "      <td>15654296</td>\n",
       "      <td>Female</td>\n",
       "      <td>50</td>\n",
       "      <td>20000</td>\n",
       "      <td>1</td>\n",
       "    </tr>\n",
       "    <tr>\n",
       "      <td>398</td>\n",
       "      <td>15755018</td>\n",
       "      <td>Male</td>\n",
       "      <td>36</td>\n",
       "      <td>33000</td>\n",
       "      <td>0</td>\n",
       "    </tr>\n",
       "    <tr>\n",
       "      <td>399</td>\n",
       "      <td>15594041</td>\n",
       "      <td>Female</td>\n",
       "      <td>49</td>\n",
       "      <td>36000</td>\n",
       "      <td>1</td>\n",
       "    </tr>\n",
       "  </tbody>\n",
       "</table>\n",
       "<p>400 rows × 5 columns</p>\n",
       "</div>"
      ],
      "text/plain": [
       "      User ID  Gender  Age  EstimatedSalary  Purchased\n",
       "0    15624510    Male   19            19000          0\n",
       "1    15810944    Male   35            20000          0\n",
       "2    15668575  Female   26            43000          0\n",
       "3    15603246  Female   27            57000          0\n",
       "4    15804002    Male   19            76000          0\n",
       "..        ...     ...  ...              ...        ...\n",
       "395  15691863  Female   46            41000          1\n",
       "396  15706071    Male   51            23000          1\n",
       "397  15654296  Female   50            20000          1\n",
       "398  15755018    Male   36            33000          0\n",
       "399  15594041  Female   49            36000          1\n",
       "\n",
       "[400 rows x 5 columns]"
      ]
     },
     "execution_count": 5,
     "metadata": {},
     "output_type": "execute_result"
    }
   ],
   "source": [
    "sn_data"
   ]
  },
  {
   "cell_type": "markdown",
   "metadata": {},
   "source": [
    "##### Separating the independant variables and dependant variable"
   ]
  },
  {
   "cell_type": "code",
   "execution_count": 6,
   "metadata": {},
   "outputs": [],
   "source": [
    "X = sn_data.iloc[:,1:-1].values   # independant variables/estimators/predictors\n",
    "y = sn_data.iloc[:,-1].values     # dependant variable"
   ]
  },
  {
   "cell_type": "code",
   "execution_count": 7,
   "metadata": {},
   "outputs": [
    {
     "data": {
      "text/plain": [
       "array([['Male', 19, 19000],\n",
       "       ['Male', 35, 20000],\n",
       "       ['Female', 26, 43000],\n",
       "       ...,\n",
       "       ['Female', 50, 20000],\n",
       "       ['Male', 36, 33000],\n",
       "       ['Female', 49, 36000]], dtype=object)"
      ]
     },
     "execution_count": 7,
     "metadata": {},
     "output_type": "execute_result"
    }
   ],
   "source": [
    "X"
   ]
  },
  {
   "cell_type": "code",
   "execution_count": 8,
   "metadata": {},
   "outputs": [
    {
     "data": {
      "text/plain": [
       "array([0, 0, 0, 0, 0, 0, 0, 1, 0, 0, 0, 0, 0, 0, 0, 0, 1, 1, 1, 1, 1, 1,\n",
       "       1, 1, 1, 1, 1, 1, 0, 0, 0, 1, 0, 0, 0, 0, 0, 0, 0, 0, 0, 0, 0, 0,\n",
       "       0, 0, 0, 0, 1, 0, 0, 0, 0, 0, 0, 0, 0, 0, 0, 0, 0, 0, 0, 1, 0, 0,\n",
       "       0, 0, 0, 0, 0, 0, 0, 0, 0, 1, 0, 0, 0, 0, 0, 0, 0, 0, 0, 1, 0, 0,\n",
       "       0, 0, 0, 0, 0, 0, 0, 0, 0, 1, 0, 0, 0, 0, 0, 1, 0, 0, 0, 0, 0, 0,\n",
       "       0, 0, 0, 0, 0, 0, 0, 0, 0, 0, 0, 0, 0, 0, 0, 0, 0, 0, 0, 0, 0, 0,\n",
       "       0, 0, 0, 0, 0, 1, 0, 0, 0, 0, 0, 0, 0, 0, 1, 0, 0, 0, 0, 0, 0, 0,\n",
       "       0, 0, 0, 0, 0, 1, 1, 0, 0, 0, 0, 0, 0, 0, 1, 0, 0, 0, 0, 0, 0, 0,\n",
       "       0, 0, 0, 0, 0, 0, 1, 0, 0, 0, 0, 0, 0, 0, 0, 0, 0, 0, 0, 0, 0, 0,\n",
       "       0, 0, 0, 0, 1, 0, 1, 0, 1, 0, 1, 0, 1, 1, 0, 0, 0, 1, 0, 0, 0, 1,\n",
       "       0, 1, 1, 1, 0, 0, 1, 1, 0, 1, 1, 0, 1, 1, 0, 1, 0, 0, 0, 1, 1, 0,\n",
       "       1, 1, 0, 1, 0, 1, 0, 1, 0, 0, 1, 1, 0, 1, 0, 0, 1, 1, 0, 1, 1, 0,\n",
       "       1, 1, 0, 0, 1, 0, 0, 1, 1, 1, 1, 1, 0, 1, 1, 1, 1, 0, 1, 1, 0, 1,\n",
       "       0, 1, 0, 1, 1, 1, 1, 0, 0, 0, 1, 1, 0, 1, 1, 1, 1, 1, 0, 0, 0, 1,\n",
       "       1, 0, 0, 1, 0, 1, 0, 1, 1, 0, 1, 0, 1, 1, 0, 1, 1, 0, 0, 0, 1, 1,\n",
       "       0, 1, 0, 0, 1, 0, 1, 0, 0, 1, 1, 0, 0, 1, 1, 0, 1, 1, 0, 0, 1, 0,\n",
       "       1, 0, 1, 1, 1, 0, 1, 0, 1, 1, 1, 0, 1, 1, 1, 1, 0, 1, 1, 1, 0, 1,\n",
       "       0, 1, 0, 0, 1, 1, 0, 1, 1, 1, 1, 1, 1, 0, 1, 1, 1, 1, 1, 1, 0, 1,\n",
       "       1, 1, 0, 1], dtype=int64)"
      ]
     },
     "execution_count": 8,
     "metadata": {},
     "output_type": "execute_result"
    }
   ],
   "source": [
    "y"
   ]
  },
  {
   "cell_type": "markdown",
   "metadata": {},
   "source": [
    "##### Encoding categorical values"
   ]
  },
  {
   "cell_type": "code",
   "execution_count": 9,
   "metadata": {},
   "outputs": [
    {
     "name": "stderr",
     "output_type": "stream",
     "text": [
      "C:\\ProgramData\\Anaconda3\\lib\\site-packages\\sklearn\\preprocessing\\_encoders.py:415: FutureWarning: The handling of integer data will change in version 0.22. Currently, the categories are determined based on the range [0, max(values)], while in the future they will be determined based on the unique values.\n",
      "If you want the future behaviour and silence this warning, you can specify \"categories='auto'\".\n",
      "In case you used a LabelEncoder before this OneHotEncoder to convert the categories to integers, then you can now use the OneHotEncoder directly.\n",
      "  warnings.warn(msg, FutureWarning)\n",
      "C:\\ProgramData\\Anaconda3\\lib\\site-packages\\sklearn\\preprocessing\\_encoders.py:451: DeprecationWarning: The 'categorical_features' keyword is deprecated in version 0.20 and will be removed in 0.22. You can use the ColumnTransformer instead.\n",
      "  \"use the ColumnTransformer instead.\", DeprecationWarning)\n"
     ]
    }
   ],
   "source": [
    "labelencoder = LabelEncoder()\n",
    "X[:, 0] = labelencoder.fit_transform(X[:, 0])\n",
    "onehotencoder = OneHotEncoder(categorical_features = [0])\n",
    "X = onehotencoder.fit_transform(X).toarray()"
   ]
  },
  {
   "cell_type": "code",
   "execution_count": 10,
   "metadata": {},
   "outputs": [
    {
     "data": {
      "text/plain": [
       "array([[0.0e+00, 1.0e+00, 1.9e+01, 1.9e+04],\n",
       "       [0.0e+00, 1.0e+00, 3.5e+01, 2.0e+04],\n",
       "       [1.0e+00, 0.0e+00, 2.6e+01, 4.3e+04],\n",
       "       ...,\n",
       "       [1.0e+00, 0.0e+00, 5.0e+01, 2.0e+04],\n",
       "       [0.0e+00, 1.0e+00, 3.6e+01, 3.3e+04],\n",
       "       [1.0e+00, 0.0e+00, 4.9e+01, 3.6e+04]])"
      ]
     },
     "execution_count": 10,
     "metadata": {},
     "output_type": "execute_result"
    }
   ],
   "source": [
    "X"
   ]
  },
  {
   "cell_type": "markdown",
   "metadata": {},
   "source": [
    "##### Avoiding the dummy variable trap"
   ]
  },
  {
   "cell_type": "code",
   "execution_count": 11,
   "metadata": {},
   "outputs": [
    {
     "data": {
      "text/plain": [
       "array([[1.0e+00, 1.9e+01, 1.9e+04],\n",
       "       [1.0e+00, 3.5e+01, 2.0e+04],\n",
       "       [0.0e+00, 2.6e+01, 4.3e+04],\n",
       "       ...,\n",
       "       [0.0e+00, 5.0e+01, 2.0e+04],\n",
       "       [1.0e+00, 3.6e+01, 3.3e+04],\n",
       "       [0.0e+00, 4.9e+01, 3.6e+04]])"
      ]
     },
     "execution_count": 11,
     "metadata": {},
     "output_type": "execute_result"
    }
   ],
   "source": [
    "X = X[:,1:]\n",
    "X"
   ]
  },
  {
   "cell_type": "markdown",
   "metadata": {},
   "source": [
    "##### Splitting the data into train and test sets"
   ]
  },
  {
   "cell_type": "code",
   "execution_count": 12,
   "metadata": {},
   "outputs": [],
   "source": [
    "X_train, X_test, y_train, y_test = train_test_split(X, y, test_size = 0.20, random_state = 42)"
   ]
  },
  {
   "cell_type": "code",
   "execution_count": 13,
   "metadata": {},
   "outputs": [
    {
     "name": "stdout",
     "output_type": "stream",
     "text": [
      "X_train:\n",
      "[[0.00e+00 2.70e+01 5.70e+04]\n",
      " [1.00e+00 4.60e+01 2.80e+04]\n",
      " [0.00e+00 3.90e+01 1.34e+05]\n",
      " [0.00e+00 4.40e+01 3.90e+04]\n",
      " [0.00e+00 5.70e+01 2.60e+04]\n",
      " [1.00e+00 3.20e+01 1.20e+05]\n",
      " [1.00e+00 4.10e+01 5.20e+04]\n",
      " [1.00e+00 4.80e+01 7.40e+04]\n",
      " [1.00e+00 2.60e+01 8.60e+04]\n",
      " [1.00e+00 2.20e+01 8.10e+04]\n",
      " [1.00e+00 4.90e+01 8.60e+04]\n",
      " [0.00e+00 3.60e+01 5.40e+04]\n",
      " [1.00e+00 4.00e+01 5.90e+04]\n",
      " [0.00e+00 4.10e+01 8.00e+04]\n",
      " [1.00e+00 2.60e+01 1.60e+04]\n",
      " [0.00e+00 3.90e+01 7.90e+04]\n",
      " [1.00e+00 5.90e+01 1.30e+05]\n",
      " [1.00e+00 4.20e+01 6.40e+04]\n",
      " [0.00e+00 5.30e+01 1.43e+05]\n",
      " [1.00e+00 3.40e+01 1.12e+05]\n",
      " [0.00e+00 5.70e+01 1.22e+05]\n",
      " [0.00e+00 3.90e+01 7.10e+04]\n",
      " [1.00e+00 4.70e+01 2.50e+04]\n",
      " [1.00e+00 2.40e+01 1.90e+04]\n",
      " [0.00e+00 3.60e+01 5.00e+04]\n",
      " [0.00e+00 3.20e+01 1.50e+05]\n",
      " [0.00e+00 4.80e+01 2.90e+04]\n",
      " [1.00e+00 3.00e+01 1.07e+05]\n",
      " [1.00e+00 6.00e+01 3.40e+04]\n",
      " [1.00e+00 3.80e+01 6.10e+04]\n",
      " [1.00e+00 3.30e+01 3.10e+04]\n",
      " [1.00e+00 3.90e+01 7.10e+04]\n",
      " [1.00e+00 5.50e+01 3.90e+04]\n",
      " [0.00e+00 4.90e+01 3.90e+04]\n",
      " [0.00e+00 4.30e+01 1.12e+05]\n",
      " [1.00e+00 2.70e+01 2.00e+04]\n",
      " [0.00e+00 2.60e+01 1.70e+04]\n",
      " [0.00e+00 3.70e+01 9.30e+04]\n",
      " [1.00e+00 4.20e+01 5.40e+04]\n",
      " [1.00e+00 3.50e+01 6.10e+04]\n",
      " [1.00e+00 2.90e+01 7.50e+04]\n",
      " [0.00e+00 3.80e+01 8.00e+04]\n",
      " [1.00e+00 4.50e+01 2.60e+04]\n",
      " [0.00e+00 5.40e+01 1.08e+05]\n",
      " [1.00e+00 4.60e+01 2.30e+04]\n",
      " [0.00e+00 2.30e+01 2.80e+04]\n",
      " [1.00e+00 3.70e+01 7.50e+04]\n",
      " [1.00e+00 4.20e+01 6.50e+04]\n",
      " [0.00e+00 3.50e+01 7.10e+04]\n",
      " [0.00e+00 5.10e+01 1.46e+05]\n",
      " [1.00e+00 3.90e+01 9.60e+04]\n",
      " [0.00e+00 2.40e+01 8.90e+04]\n",
      " [0.00e+00 5.80e+01 9.50e+04]\n",
      " [1.00e+00 2.50e+01 2.20e+04]\n",
      " [1.00e+00 4.10e+01 5.90e+04]\n",
      " [1.00e+00 2.80e+01 8.90e+04]\n",
      " [0.00e+00 4.20e+01 8.00e+04]\n",
      " [0.00e+00 4.20e+01 1.08e+05]\n",
      " [0.00e+00 4.60e+01 9.60e+04]\n",
      " [0.00e+00 4.70e+01 1.13e+05]\n",
      " [0.00e+00 3.30e+01 2.80e+04]\n",
      " [1.00e+00 1.90e+01 2.50e+04]\n",
      " [1.00e+00 4.90e+01 8.90e+04]\n",
      " [0.00e+00 3.10e+01 1.50e+04]\n",
      " [0.00e+00 3.00e+01 7.90e+04]\n",
      " [1.00e+00 4.80e+01 1.41e+05]\n",
      " [0.00e+00 3.20e+01 1.17e+05]\n",
      " [0.00e+00 3.70e+01 7.10e+04]\n",
      " [0.00e+00 1.80e+01 8.60e+04]\n",
      " [0.00e+00 4.20e+01 7.90e+04]\n",
      " [0.00e+00 2.70e+01 8.40e+04]\n",
      " [1.00e+00 4.00e+01 6.50e+04]\n",
      " [1.00e+00 5.70e+01 7.40e+04]\n",
      " [0.00e+00 2.60e+01 1.50e+04]\n",
      " [0.00e+00 2.60e+01 8.00e+04]\n",
      " [1.00e+00 2.90e+01 4.30e+04]\n",
      " [0.00e+00 3.30e+01 1.49e+05]\n",
      " [1.00e+00 3.90e+01 4.20e+04]\n",
      " [0.00e+00 5.40e+01 1.04e+05]\n",
      " [1.00e+00 3.60e+01 3.30e+04]\n",
      " [0.00e+00 4.60e+01 3.20e+04]\n",
      " [0.00e+00 4.00e+01 1.42e+05]\n",
      " [0.00e+00 3.70e+01 6.20e+04]\n",
      " [1.00e+00 2.90e+01 1.48e+05]\n",
      " [0.00e+00 3.70e+01 5.70e+04]\n",
      " [1.00e+00 3.50e+01 5.00e+04]\n",
      " [0.00e+00 4.20e+01 5.30e+04]\n",
      " [1.00e+00 3.50e+01 3.80e+04]\n",
      " [0.00e+00 4.10e+01 3.00e+04]\n",
      " [0.00e+00 4.00e+01 7.20e+04]\n",
      " [1.00e+00 2.60e+01 1.50e+04]\n",
      " [0.00e+00 3.10e+01 6.80e+04]\n",
      " [1.00e+00 3.50e+01 5.30e+04]\n",
      " [0.00e+00 3.50e+01 2.50e+04]\n",
      " [1.00e+00 3.00e+01 8.90e+04]\n",
      " [1.00e+00 4.10e+01 7.20e+04]\n",
      " [1.00e+00 2.80e+01 1.23e+05]\n",
      " [0.00e+00 4.60e+01 8.20e+04]\n",
      " [0.00e+00 2.20e+01 6.30e+04]\n",
      " [0.00e+00 4.50e+01 2.20e+04]\n",
      " [1.00e+00 3.00e+01 4.90e+04]\n",
      " [0.00e+00 3.40e+01 2.50e+04]\n",
      " [0.00e+00 4.00e+01 7.50e+04]\n",
      " [0.00e+00 3.20e+01 1.17e+05]\n",
      " [0.00e+00 2.30e+01 8.20e+04]\n",
      " [1.00e+00 2.60e+01 8.00e+04]\n",
      " [0.00e+00 4.80e+01 1.31e+05]\n",
      " [1.00e+00 5.90e+01 1.43e+05]\n",
      " [1.00e+00 3.50e+01 5.50e+04]\n",
      " [1.00e+00 3.40e+01 4.30e+04]\n",
      " [0.00e+00 3.90e+01 6.10e+04]\n",
      " [0.00e+00 2.70e+01 9.60e+04]\n",
      " [1.00e+00 6.00e+01 8.30e+04]\n",
      " [1.00e+00 2.40e+01 5.50e+04]\n",
      " [1.00e+00 5.80e+01 1.44e+05]\n",
      " [0.00e+00 5.30e+01 1.04e+05]\n",
      " [1.00e+00 3.50e+01 7.90e+04]\n",
      " [1.00e+00 3.60e+01 9.90e+04]\n",
      " [1.00e+00 5.70e+01 6.00e+04]\n",
      " [0.00e+00 3.70e+01 1.37e+05]\n",
      " [1.00e+00 3.30e+01 4.30e+04]\n",
      " [0.00e+00 4.10e+01 7.10e+04]\n",
      " [0.00e+00 5.20e+01 2.10e+04]\n",
      " [1.00e+00 5.20e+01 1.50e+05]\n",
      " [1.00e+00 3.70e+01 7.00e+04]\n",
      " [0.00e+00 2.60e+01 8.40e+04]\n",
      " [0.00e+00 2.60e+01 7.20e+04]\n",
      " [0.00e+00 2.60e+01 5.20e+04]\n",
      " [0.00e+00 4.10e+01 6.00e+04]\n",
      " [1.00e+00 3.10e+01 6.60e+04]\n",
      " [1.00e+00 3.70e+01 1.44e+05]\n",
      " [1.00e+00 3.80e+01 6.10e+04]\n",
      " [0.00e+00 3.10e+01 3.40e+04]\n",
      " [0.00e+00 4.20e+01 7.50e+04]\n",
      " [1.00e+00 4.60e+01 1.17e+05]\n",
      " [1.00e+00 3.60e+01 5.20e+04]\n",
      " [1.00e+00 3.80e+01 7.10e+04]\n",
      " [1.00e+00 4.90e+01 8.80e+04]\n",
      " [0.00e+00 5.70e+01 3.30e+04]\n",
      " [0.00e+00 4.80e+01 1.38e+05]\n",
      " [0.00e+00 4.70e+01 5.00e+04]\n",
      " [0.00e+00 3.30e+01 6.90e+04]\n",
      " [0.00e+00 3.70e+01 1.46e+05]\n",
      " [0.00e+00 2.00e+01 8.20e+04]\n",
      " [1.00e+00 4.00e+01 4.70e+04]\n",
      " [1.00e+00 3.50e+01 2.20e+04]\n",
      " [0.00e+00 2.00e+01 3.60e+04]\n",
      " [0.00e+00 4.50e+01 4.50e+04]\n",
      " [0.00e+00 2.60e+01 4.30e+04]\n",
      " [0.00e+00 5.80e+01 1.01e+05]\n",
      " [1.00e+00 4.00e+01 5.70e+04]\n",
      " [0.00e+00 3.80e+01 1.12e+05]\n",
      " [0.00e+00 3.70e+01 8.00e+04]\n",
      " [1.00e+00 4.90e+01 2.80e+04]\n",
      " [0.00e+00 3.60e+01 7.50e+04]\n",
      " [0.00e+00 4.10e+01 7.20e+04]\n",
      " [0.00e+00 3.50e+01 6.00e+04]\n",
      " [1.00e+00 4.30e+01 1.29e+05]\n",
      " [1.00e+00 4.10e+01 8.70e+04]\n",
      " [0.00e+00 3.80e+01 1.13e+05]\n",
      " [0.00e+00 5.80e+01 2.30e+04]\n",
      " [1.00e+00 2.60e+01 3.20e+04]\n",
      " [1.00e+00 3.20e+01 1.80e+04]\n",
      " [1.00e+00 4.10e+01 5.20e+04]\n",
      " [1.00e+00 3.10e+01 1.80e+04]\n",
      " [1.00e+00 3.50e+01 8.80e+04]\n",
      " [0.00e+00 4.80e+01 3.50e+04]\n",
      " [1.00e+00 2.70e+01 8.90e+04]\n",
      " [0.00e+00 3.50e+01 9.70e+04]\n",
      " [1.00e+00 4.20e+01 7.30e+04]\n",
      " [0.00e+00 2.10e+01 6.80e+04]\n",
      " [0.00e+00 4.10e+01 7.20e+04]\n",
      " [0.00e+00 3.30e+01 6.00e+04]\n",
      " [1.00e+00 3.90e+01 1.34e+05]\n",
      " [0.00e+00 2.80e+01 8.40e+04]\n",
      " [1.00e+00 4.60e+01 8.80e+04]\n",
      " [1.00e+00 2.40e+01 5.80e+04]\n",
      " [0.00e+00 3.10e+01 1.18e+05]\n",
      " [0.00e+00 5.00e+01 8.80e+04]\n",
      " [0.00e+00 2.00e+01 8.20e+04]\n",
      " [0.00e+00 3.20e+01 1.35e+05]\n",
      " [1.00e+00 2.00e+01 8.60e+04]\n",
      " [1.00e+00 3.50e+01 2.70e+04]\n",
      " [1.00e+00 2.90e+01 4.30e+04]\n",
      " [1.00e+00 2.10e+01 8.80e+04]\n",
      " [1.00e+00 3.50e+01 5.90e+04]\n",
      " [1.00e+00 4.50e+01 3.20e+04]\n",
      " [1.00e+00 6.00e+01 4.20e+04]\n",
      " [1.00e+00 3.50e+01 9.10e+04]\n",
      " [0.00e+00 3.50e+01 4.40e+04]\n",
      " [0.00e+00 1.80e+01 4.40e+04]\n",
      " [1.00e+00 4.20e+01 1.49e+05]\n",
      " [1.00e+00 4.50e+01 7.90e+04]\n",
      " [0.00e+00 4.00e+01 6.00e+04]\n",
      " [1.00e+00 2.40e+01 2.30e+04]\n",
      " [0.00e+00 3.30e+01 5.10e+04]\n",
      " [0.00e+00 4.20e+01 7.00e+04]\n",
      " [0.00e+00 5.50e+01 1.30e+05]\n",
      " [0.00e+00 5.00e+01 4.40e+04]\n",
      " [0.00e+00 4.80e+01 1.19e+05]\n",
      " [1.00e+00 1.90e+01 7.60e+04]\n",
      " [0.00e+00 4.10e+01 7.20e+04]\n",
      " [1.00e+00 4.00e+01 7.10e+04]\n",
      " [1.00e+00 2.70e+01 8.80e+04]\n",
      " [0.00e+00 3.60e+01 1.26e+05]\n",
      " [1.00e+00 3.50e+01 7.50e+04]\n",
      " [1.00e+00 3.50e+01 5.80e+04]\n",
      " [1.00e+00 3.40e+01 1.15e+05]\n",
      " [1.00e+00 3.50e+01 7.30e+04]\n",
      " [0.00e+00 6.00e+01 1.08e+05]\n",
      " [1.00e+00 2.50e+01 8.70e+04]\n",
      " [0.00e+00 2.70e+01 5.40e+04]\n",
      " [0.00e+00 2.10e+01 1.60e+04]\n",
      " [1.00e+00 3.70e+01 7.40e+04]\n",
      " [1.00e+00 3.50e+01 3.90e+04]\n",
      " [1.00e+00 5.40e+01 7.00e+04]\n",
      " [0.00e+00 4.70e+01 3.00e+04]\n",
      " [0.00e+00 3.80e+01 5.00e+04]\n",
      " [0.00e+00 3.50e+01 1.47e+05]\n",
      " [0.00e+00 3.50e+01 7.70e+04]\n",
      " [1.00e+00 4.10e+01 7.90e+04]\n",
      " [0.00e+00 3.70e+01 3.30e+04]\n",
      " [0.00e+00 6.00e+01 4.60e+04]\n",
      " [0.00e+00 2.80e+01 5.90e+04]\n",
      " [0.00e+00 2.30e+01 6.60e+04]\n",
      " [1.00e+00 2.30e+01 6.30e+04]\n",
      " [1.00e+00 3.00e+01 1.70e+04]\n",
      " [1.00e+00 2.50e+01 3.30e+04]\n",
      " [0.00e+00 5.90e+01 8.30e+04]\n",
      " [0.00e+00 5.80e+01 3.80e+04]\n",
      " [1.00e+00 1.80e+01 8.20e+04]\n",
      " [1.00e+00 4.60e+01 5.90e+04]\n",
      " [0.00e+00 2.70e+01 1.70e+04]\n",
      " [0.00e+00 5.80e+01 4.70e+04]\n",
      " [0.00e+00 4.80e+01 3.00e+04]\n",
      " [1.00e+00 4.90e+01 6.50e+04]\n",
      " [0.00e+00 5.00e+01 3.60e+04]\n",
      " [1.00e+00 5.30e+01 7.20e+04]\n",
      " [1.00e+00 4.00e+01 5.70e+04]\n",
      " [0.00e+00 5.20e+01 1.14e+05]\n",
      " [0.00e+00 5.90e+01 4.20e+04]\n",
      " [0.00e+00 3.60e+01 6.30e+04]\n",
      " [1.00e+00 4.20e+01 1.04e+05]\n",
      " [1.00e+00 3.70e+01 5.20e+04]\n",
      " [1.00e+00 4.80e+01 3.30e+04]\n",
      " [0.00e+00 5.90e+01 2.90e+04]\n",
      " [1.00e+00 3.70e+01 7.90e+04]\n",
      " [1.00e+00 4.00e+01 6.10e+04]\n",
      " [1.00e+00 4.90e+01 7.40e+04]\n",
      " [1.00e+00 2.50e+01 9.00e+04]\n",
      " [1.00e+00 3.00e+01 1.50e+04]\n",
      " [1.00e+00 4.00e+01 7.80e+04]\n",
      " [1.00e+00 2.40e+01 8.40e+04]\n",
      " [0.00e+00 3.80e+01 5.00e+04]\n",
      " [0.00e+00 4.50e+01 1.31e+05]\n",
      " [1.00e+00 2.10e+01 7.20e+04]\n",
      " [0.00e+00 3.50e+01 2.30e+04]\n",
      " [1.00e+00 3.50e+01 2.00e+04]\n",
      " [0.00e+00 3.10e+01 8.90e+04]\n",
      " [1.00e+00 3.00e+01 8.00e+04]\n",
      " [0.00e+00 4.70e+01 4.70e+04]\n",
      " [1.00e+00 2.70e+01 9.00e+04]\n",
      " [0.00e+00 3.50e+01 7.20e+04]\n",
      " [0.00e+00 3.00e+01 1.16e+05]\n",
      " [1.00e+00 3.90e+01 1.22e+05]\n",
      " [0.00e+00 2.90e+01 8.30e+04]\n",
      " [0.00e+00 4.10e+01 6.30e+04]\n",
      " [1.00e+00 4.80e+01 9.00e+04]\n",
      " [1.00e+00 3.80e+01 5.90e+04]\n",
      " [1.00e+00 3.20e+01 1.80e+04]\n",
      " [0.00e+00 3.90e+01 7.50e+04]\n",
      " [1.00e+00 2.60e+01 8.10e+04]\n",
      " [1.00e+00 3.90e+01 1.06e+05]\n",
      " [0.00e+00 2.20e+01 5.50e+04]\n",
      " [1.00e+00 3.60e+01 1.18e+05]\n",
      " [1.00e+00 6.00e+01 4.20e+04]\n",
      " [0.00e+00 2.80e+01 5.50e+04]\n",
      " [0.00e+00 5.10e+01 1.34e+05]\n",
      " [1.00e+00 4.90e+01 2.80e+04]\n",
      " [1.00e+00 3.60e+01 6.00e+04]\n",
      " [0.00e+00 5.60e+01 1.04e+05]\n",
      " [0.00e+00 2.70e+01 5.80e+04]\n",
      " [0.00e+00 2.40e+01 3.20e+04]\n",
      " [0.00e+00 3.40e+01 7.20e+04]\n",
      " [1.00e+00 2.80e+01 3.20e+04]\n",
      " [0.00e+00 5.00e+01 2.00e+04]\n",
      " [0.00e+00 3.30e+01 4.10e+04]\n",
      " [0.00e+00 2.90e+01 4.70e+04]\n",
      " [1.00e+00 2.20e+01 1.80e+04]\n",
      " [1.00e+00 3.00e+01 1.35e+05]\n",
      " [1.00e+00 4.70e+01 1.05e+05]\n",
      " [1.00e+00 4.60e+01 7.90e+04]\n",
      " [0.00e+00 4.80e+01 1.34e+05]\n",
      " [0.00e+00 4.70e+01 4.90e+04]\n",
      " [0.00e+00 4.90e+01 1.41e+05]\n",
      " [1.00e+00 3.20e+01 1.00e+05]\n",
      " [1.00e+00 3.80e+01 7.10e+04]\n",
      " [0.00e+00 1.90e+01 2.60e+04]\n",
      " [1.00e+00 3.70e+01 7.70e+04]\n",
      " [0.00e+00 4.70e+01 5.10e+04]\n",
      " [1.00e+00 4.00e+01 5.70e+04]\n",
      " [1.00e+00 3.60e+01 1.25e+05]\n",
      " [1.00e+00 2.00e+01 7.40e+04]\n",
      " [1.00e+00 3.10e+01 5.80e+04]\n",
      " [1.00e+00 4.10e+01 4.50e+04]\n",
      " [1.00e+00 4.20e+01 5.40e+04]\n",
      " [0.00e+00 2.80e+01 3.70e+04]\n",
      " [0.00e+00 3.90e+01 7.30e+04]\n",
      " [0.00e+00 2.80e+01 8.50e+04]\n",
      " [1.00e+00 3.80e+01 5.10e+04]\n",
      " [1.00e+00 4.70e+01 4.30e+04]\n",
      " [1.00e+00 3.70e+01 7.20e+04]\n",
      " [0.00e+00 4.90e+01 3.60e+04]\n",
      " [1.00e+00 4.50e+01 2.20e+04]\n",
      " [1.00e+00 3.50e+01 7.20e+04]\n",
      " [0.00e+00 2.40e+01 2.70e+04]\n",
      " [0.00e+00 2.60e+01 3.50e+04]\n",
      " [0.00e+00 4.30e+01 1.33e+05]\n",
      " [1.00e+00 3.90e+01 7.70e+04]\n",
      " [0.00e+00 3.20e+01 8.60e+04]]\n",
      "\n",
      "\n",
      "X_test:\n",
      "[[0.00e+00 4.60e+01 2.20e+04]\n",
      " [0.00e+00 5.90e+01 8.80e+04]\n",
      " [0.00e+00 2.80e+01 4.40e+04]\n",
      " [0.00e+00 4.80e+01 9.60e+04]\n",
      " [0.00e+00 2.90e+01 2.80e+04]\n",
      " [0.00e+00 3.00e+01 6.20e+04]\n",
      " [0.00e+00 4.70e+01 1.07e+05]\n",
      " [0.00e+00 2.90e+01 8.30e+04]\n",
      " [1.00e+00 4.00e+01 7.50e+04]\n",
      " [1.00e+00 4.20e+01 6.50e+04]\n",
      " [0.00e+00 3.50e+01 6.50e+04]\n",
      " [0.00e+00 5.30e+01 3.40e+04]\n",
      " [0.00e+00 2.30e+01 4.80e+04]\n",
      " [0.00e+00 2.00e+01 2.30e+04]\n",
      " [1.00e+00 3.00e+01 8.70e+04]\n",
      " [1.00e+00 3.50e+01 1.08e+05]\n",
      " [0.00e+00 5.20e+01 3.80e+04]\n",
      " [0.00e+00 4.60e+01 7.40e+04]\n",
      " [1.00e+00 3.90e+01 4.20e+04]\n",
      " [1.00e+00 5.60e+01 6.00e+04]\n",
      " [0.00e+00 2.20e+01 2.70e+04]\n",
      " [1.00e+00 2.90e+01 8.00e+04]\n",
      " [1.00e+00 4.70e+01 2.30e+04]\n",
      " [0.00e+00 5.90e+01 7.60e+04]\n",
      " [1.00e+00 1.90e+01 1.90e+04]\n",
      " [1.00e+00 5.10e+01 2.30e+04]\n",
      " [1.00e+00 4.20e+01 8.00e+04]\n",
      " [1.00e+00 3.70e+01 5.30e+04]\n",
      " [0.00e+00 5.50e+01 1.25e+05]\n",
      " [0.00e+00 1.90e+01 2.10e+04]\n",
      " [0.00e+00 4.60e+01 4.10e+04]\n",
      " [1.00e+00 1.90e+01 7.00e+04]\n",
      " [1.00e+00 3.60e+01 1.44e+05]\n",
      " [1.00e+00 2.80e+01 7.90e+04]\n",
      " [1.00e+00 4.00e+01 1.07e+05]\n",
      " [1.00e+00 3.50e+01 7.50e+04]\n",
      " [1.00e+00 3.70e+01 5.50e+04]\n",
      " [0.00e+00 3.80e+01 6.50e+04]\n",
      " [1.00e+00 2.60e+01 3.00e+04]\n",
      " [0.00e+00 1.80e+01 6.80e+04]\n",
      " [1.00e+00 4.80e+01 3.30e+04]\n",
      " [0.00e+00 2.40e+01 5.50e+04]\n",
      " [1.00e+00 1.80e+01 5.20e+04]\n",
      " [1.00e+00 4.70e+01 2.00e+04]\n",
      " [1.00e+00 2.00e+01 4.90e+04]\n",
      " [0.00e+00 4.40e+01 1.39e+05]\n",
      " [1.00e+00 2.90e+01 6.10e+04]\n",
      " [0.00e+00 3.10e+01 7.10e+04]\n",
      " [1.00e+00 4.80e+01 4.10e+04]\n",
      " [0.00e+00 3.40e+01 4.30e+04]\n",
      " [1.00e+00 2.50e+01 7.90e+04]\n",
      " [0.00e+00 5.30e+01 8.20e+04]\n",
      " [0.00e+00 3.80e+01 5.50e+04]\n",
      " [1.00e+00 2.50e+01 8.00e+04]\n",
      " [0.00e+00 3.70e+01 8.00e+04]\n",
      " [0.00e+00 2.70e+01 3.10e+04]\n",
      " [1.00e+00 6.00e+01 1.02e+05]\n",
      " [0.00e+00 2.60e+01 1.18e+05]\n",
      " [1.00e+00 3.10e+01 7.40e+04]\n",
      " [1.00e+00 3.10e+01 7.60e+04]\n",
      " [0.00e+00 4.10e+01 5.10e+04]\n",
      " [0.00e+00 3.50e+01 5.70e+04]\n",
      " [0.00e+00 5.20e+01 9.00e+04]\n",
      " [0.00e+00 2.80e+01 8.70e+04]\n",
      " [1.00e+00 2.80e+01 5.90e+04]\n",
      " [0.00e+00 2.70e+01 1.37e+05]\n",
      " [0.00e+00 4.20e+01 9.00e+04]\n",
      " [0.00e+00 4.70e+01 1.44e+05]\n",
      " [0.00e+00 3.90e+01 5.90e+04]\n",
      " [0.00e+00 3.30e+01 1.13e+05]\n",
      " [0.00e+00 5.20e+01 1.38e+05]\n",
      " [1.00e+00 1.90e+01 8.50e+04]\n",
      " [1.00e+00 2.70e+01 5.80e+04]\n",
      " [1.00e+00 2.30e+01 2.00e+04]\n",
      " [1.00e+00 4.70e+01 3.40e+04]\n",
      " [0.00e+00 3.50e+01 5.00e+04]\n",
      " [1.00e+00 5.60e+01 1.33e+05]\n",
      " [0.00e+00 5.40e+01 2.60e+04]\n",
      " [0.00e+00 3.50e+01 4.70e+04]\n",
      " [0.00e+00 3.70e+01 7.80e+04]]\n",
      "\n",
      "\n",
      "y_train:\n",
      "[0 1 1 0 1 1 0 1 0 0 1 0 0 0 0 0 1 0 1 1 1 0 1 0 0 1 1 1 1 0 0 0 1 1 1 0 0\n",
      " 1 0 0 0 0 1 1 1 0 0 0 0 1 1 0 1 0 0 0 1 1 0 1 0 0 1 0 0 0 0 0 0 0 0 0 1 0\n",
      " 0 0 1 0 1 0 1 1 0 1 0 0 0 0 0 0 0 0 0 0 0 0 1 0 0 1 0 0 0 1 0 0 1 1 0 0 0\n",
      " 1 1 0 1 1 0 1 1 1 0 0 1 1 1 0 0 0 0 0 1 0 0 0 1 0 0 1 1 1 1 0 1 0 0 0 0 1\n",
      " 0 1 0 0 0 1 0 0 0 1 1 1 1 0 0 0 0 0 1 0 1 1 0 0 0 1 0 1 0 1 1 0 1 0 0 0 0\n",
      " 0 1 1 1 0 0 1 0 0 0 0 0 1 0 1 0 0 1 0 1 0 0 0 0 1 0 0 0 0 0 1 1 0 1 0 0 0\n",
      " 1 0 0 0 0 0 0 1 0 0 0 1 1 0 1 1 0 0 0 0 1 0 1 1 1 0 0 0 0 0 0 0 1 0 0 0 0\n",
      " 0 0 0 0 0 1 0 0 1 0 0 1 0 1 0 1 1 0 0 1 0 1 0 0 0 0 1 0 0 0 1 1 1 1 1 1 1\n",
      " 0 0 0 1 0 1 0 0 0 0 0 0 0 0 0 0 1 1 0 0 0 0 0 0]\n",
      "\n",
      "\n",
      "y_test:\n",
      "[0 1 0 1 0 0 1 0 0 0 0 1 0 0 0 0 1 0 0 1 0 0 1 1 0 1 0 0 1 0 1 0 1 0 1 0 0\n",
      " 0 0 0 1 0 0 1 0 1 0 0 1 0 0 1 0 0 0 0 1 0 0 0 0 0 1 0 0 1 1 1 0 0 1 0 0 0\n",
      " 1 0 1 1 0 1]\n"
     ]
    }
   ],
   "source": [
    "print(\"X_train:\");print(X_train)\n",
    "print(\"\\n\\nX_test:\");print(X_test)\n",
    "print(\"\\n\\ny_train:\");print(y_train)\n",
    "print(\"\\n\\ny_test:\");print(y_test)"
   ]
  },
  {
   "cell_type": "markdown",
   "metadata": {},
   "source": [
    "##### Feature Scaling"
   ]
  },
  {
   "cell_type": "code",
   "execution_count": 14,
   "metadata": {},
   "outputs": [],
   "source": [
    "sc = StandardScaler()\n",
    "X_train = sc.fit_transform(X_train)\n",
    "X_test = sc.transform(X_test)"
   ]
  },
  {
   "cell_type": "markdown",
   "metadata": {},
   "source": [
    "##### Modeling our classifier"
   ]
  },
  {
   "cell_type": "code",
   "execution_count": 15,
   "metadata": {},
   "outputs": [
    {
     "data": {
      "text/plain": [
       "DecisionTreeClassifier(class_weight=None, criterion='gini', max_depth=4,\n",
       "                       max_features=None, max_leaf_nodes=None,\n",
       "                       min_impurity_decrease=0.0, min_impurity_split=None,\n",
       "                       min_samples_leaf=1, min_samples_split=2,\n",
       "                       min_weight_fraction_leaf=0.0, presort=False,\n",
       "                       random_state=42, splitter='best')"
      ]
     },
     "execution_count": 15,
     "metadata": {},
     "output_type": "execute_result"
    }
   ],
   "source": [
    "tree_classifier = DecisionTreeClassifier(criterion = 'gini', max_depth = 4, splitter = 'best', random_state = 42)\n",
    "tree_classifier.fit(X_train, y_train)"
   ]
  },
  {
   "cell_type": "markdown",
   "metadata": {},
   "source": [
    "##### Predicting target values"
   ]
  },
  {
   "cell_type": "code",
   "execution_count": 16,
   "metadata": {},
   "outputs": [
    {
     "data": {
      "text/plain": [
       "array([1, 1, 0, 1, 0, 0, 1, 0, 0, 0, 0, 1, 0, 0, 0, 1, 1, 0, 0, 1, 0, 0,\n",
       "       1, 1, 0, 1, 0, 0, 1, 0, 0, 0, 1, 0, 1, 0, 0, 0, 0, 0, 1, 0, 0, 1,\n",
       "       0, 1, 0, 0, 0, 0, 0, 1, 0, 0, 0, 0, 1, 1, 0, 0, 0, 0, 1, 0, 0, 1,\n",
       "       1, 1, 0, 1, 1, 0, 0, 0, 1, 0, 1, 1, 0, 0], dtype=int64)"
      ]
     },
     "execution_count": 16,
     "metadata": {},
     "output_type": "execute_result"
    }
   ],
   "source": [
    "y_pred = tree_classifier.predict(X_test)\n",
    "y_pred"
   ]
  },
  {
   "cell_type": "markdown",
   "metadata": {},
   "source": [
    "##### Checking the performance of our model"
   ]
  },
  {
   "cell_type": "code",
   "execution_count": 17,
   "metadata": {},
   "outputs": [
    {
     "name": "stdout",
     "output_type": "stream",
     "text": [
      "Classification Report:\n",
      "              precision    recall  f1-score   support\n",
      "\n",
      "           0       0.94      0.92      0.93        52\n",
      "           1       0.86      0.89      0.88        28\n",
      "\n",
      "    accuracy                           0.91        80\n",
      "   macro avg       0.90      0.91      0.90        80\n",
      "weighted avg       0.91      0.91      0.91        80\n",
      "\n"
     ]
    }
   ],
   "source": [
    "print(\"Classification Report:\");print(metrics.classification_report(y_test, y_pred))"
   ]
  },
  {
   "cell_type": "code",
   "execution_count": 18,
   "metadata": {},
   "outputs": [
    {
     "name": "stdout",
     "output_type": "stream",
     "text": [
      "Confusion Matrix:\n",
      "[[48  4]\n",
      " [ 3 25]]\n"
     ]
    }
   ],
   "source": [
    "print(\"Confusion Matrix:\");print(metrics.confusion_matrix(y_test, y_pred))"
   ]
  },
  {
   "cell_type": "code",
   "execution_count": 19,
   "metadata": {},
   "outputs": [
    {
     "name": "stdout",
     "output_type": "stream",
     "text": [
      "Accuracy: 0.9125\n"
     ]
    }
   ],
   "source": [
    "print(\"Accuracy:\", metrics.accuracy_score(y_test, y_pred))"
   ]
  },
  {
   "cell_type": "code",
   "execution_count": 21,
   "metadata": {},
   "outputs": [],
   "source": [
    "from IPython.display import Image\n",
    "from sklearn.externals.six import StringIO\n",
    "from sklearn.tree import export_graphviz\n",
    "import pydot"
   ]
  },
  {
   "cell_type": "code",
   "execution_count": 25,
   "metadata": {},
   "outputs": [
    {
     "data": {
      "text/plain": [
       "['Gender', 'Age', 'EstimatedSalary', 'Purchased']"
      ]
     },
     "execution_count": 25,
     "metadata": {},
     "output_type": "execute_result"
    }
   ],
   "source": [
    "features = list(sn_data.columns[1:])\n",
    "features"
   ]
  },
  {
   "cell_type": "code",
   "execution_count": 24,
   "metadata": {},
   "outputs": [
    {
     "ename": "ValueError",
     "evalue": "Length of feature_names, 4 does not match number of features, 3",
     "output_type": "error",
     "traceback": [
      "\u001b[1;31m---------------------------------------------------------------------------\u001b[0m",
      "\u001b[1;31mValueError\u001b[0m                                Traceback (most recent call last)",
      "\u001b[1;32m<ipython-input-24-97a2faf61f15>\u001b[0m in \u001b[0;36m<module>\u001b[1;34m\u001b[0m\n\u001b[0;32m      1\u001b[0m \u001b[0mdot_data\u001b[0m \u001b[1;33m=\u001b[0m \u001b[0mStringIO\u001b[0m\u001b[1;33m(\u001b[0m\u001b[1;33m)\u001b[0m\u001b[1;33m\u001b[0m\u001b[1;33m\u001b[0m\u001b[0m\n\u001b[1;32m----> 2\u001b[1;33m \u001b[0mexport_graphviz\u001b[0m\u001b[1;33m(\u001b[0m\u001b[0mtree_classifier\u001b[0m\u001b[1;33m,\u001b[0m \u001b[0mout_file\u001b[0m \u001b[1;33m=\u001b[0m \u001b[0mdot_data\u001b[0m\u001b[1;33m,\u001b[0m \u001b[0mfeature_names\u001b[0m \u001b[1;33m=\u001b[0m \u001b[0mfeatures\u001b[0m\u001b[1;33m,\u001b[0m \u001b[0mfilled\u001b[0m \u001b[1;33m=\u001b[0m \u001b[1;32mTrue\u001b[0m\u001b[1;33m,\u001b[0m \u001b[0mrounded\u001b[0m \u001b[1;33m=\u001b[0m \u001b[1;32mTrue\u001b[0m\u001b[1;33m)\u001b[0m\u001b[1;33m\u001b[0m\u001b[1;33m\u001b[0m\u001b[0m\n\u001b[0m",
      "\u001b[1;32mC:\\ProgramData\\Anaconda3\\lib\\site-packages\\sklearn\\tree\\export.py\u001b[0m in \u001b[0;36mexport_graphviz\u001b[1;34m(decision_tree, out_file, max_depth, feature_names, class_names, label, filled, leaves_parallel, impurity, node_ids, proportion, rotate, rounded, special_characters, precision)\u001b[0m\n\u001b[0;32m    774\u001b[0m             \u001b[0mrounded\u001b[0m\u001b[1;33m=\u001b[0m\u001b[0mrounded\u001b[0m\u001b[1;33m,\u001b[0m \u001b[0mspecial_characters\u001b[0m\u001b[1;33m=\u001b[0m\u001b[0mspecial_characters\u001b[0m\u001b[1;33m,\u001b[0m\u001b[1;33m\u001b[0m\u001b[1;33m\u001b[0m\u001b[0m\n\u001b[0;32m    775\u001b[0m             precision=precision)\n\u001b[1;32m--> 776\u001b[1;33m         \u001b[0mexporter\u001b[0m\u001b[1;33m.\u001b[0m\u001b[0mexport\u001b[0m\u001b[1;33m(\u001b[0m\u001b[0mdecision_tree\u001b[0m\u001b[1;33m)\u001b[0m\u001b[1;33m\u001b[0m\u001b[1;33m\u001b[0m\u001b[0m\n\u001b[0m\u001b[0;32m    777\u001b[0m \u001b[1;33m\u001b[0m\u001b[0m\n\u001b[0;32m    778\u001b[0m         \u001b[1;32mif\u001b[0m \u001b[0mreturn_string\u001b[0m\u001b[1;33m:\u001b[0m\u001b[1;33m\u001b[0m\u001b[1;33m\u001b[0m\u001b[0m\n",
      "\u001b[1;32mC:\\ProgramData\\Anaconda3\\lib\\site-packages\\sklearn\\tree\\export.py\u001b[0m in \u001b[0;36mexport\u001b[1;34m(self, decision_tree)\u001b[0m\n\u001b[0;32m    399\u001b[0m                                  \u001b[1;34m\"does not match number of features, %d\"\u001b[0m\u001b[1;33m\u001b[0m\u001b[1;33m\u001b[0m\u001b[0m\n\u001b[0;32m    400\u001b[0m                                  % (len(self.feature_names),\n\u001b[1;32m--> 401\u001b[1;33m                                     decision_tree.n_features_))\n\u001b[0m\u001b[0;32m    402\u001b[0m         \u001b[1;31m# each part writes to out_file\u001b[0m\u001b[1;33m\u001b[0m\u001b[1;33m\u001b[0m\u001b[1;33m\u001b[0m\u001b[0m\n\u001b[0;32m    403\u001b[0m         \u001b[0mself\u001b[0m\u001b[1;33m.\u001b[0m\u001b[0mhead\u001b[0m\u001b[1;33m(\u001b[0m\u001b[1;33m)\u001b[0m\u001b[1;33m\u001b[0m\u001b[1;33m\u001b[0m\u001b[0m\n",
      "\u001b[1;31mValueError\u001b[0m: Length of feature_names, 4 does not match number of features, 3"
     ]
    }
   ],
   "source": [
    "dot_data = StringIO()\n",
    "export_graphviz(tree_classifier, out_file = dot_data, feature_names = features, filled = True, rounded = True)"
   ]
  },
  {
   "cell_type": "code",
   "execution_count": null,
   "metadata": {},
   "outputs": [],
   "source": []
  }
 ],
 "metadata": {
  "kernelspec": {
   "display_name": "Python 3",
   "language": "python",
   "name": "python3"
  },
  "language_info": {
   "codemirror_mode": {
    "name": "ipython",
    "version": 3
   },
   "file_extension": ".py",
   "mimetype": "text/x-python",
   "name": "python",
   "nbconvert_exporter": "python",
   "pygments_lexer": "ipython3",
   "version": "3.7.4"
  }
 },
 "nbformat": 4,
 "nbformat_minor": 2
}
